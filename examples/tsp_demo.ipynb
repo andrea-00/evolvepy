{
 "cells": [
  {
   "cell_type": "markdown",
   "id": "10bd1e5d",
   "metadata": {},
   "source": [
    "# Solving the TSP with the `evolvepy` Framework\n",
    "\n",
    "This notebook demonstrates how to use the `evolvepy` framework to solve a combinatorial optimization problem: the **Traveling Salesman Problem (TSP)**.\n",
    "\n",
    "We will walk through the following steps:\n",
    "1.  **Setup:** Import all necessary modules and define experiment parameters.\n",
    "2.  **Problem Setup:** Load the data and instantiate the `TSPProblem` class.\n",
    "3.  **Strategy Assembly:** Select and configure the \"plugins\" (Crossover, Mutation, Selection) for our engine.\n",
    "4.  **Engine Initialization:** Create an instance of `EvolutionaryAlgorithm` and \"inject\" our prepared strategies.\n",
    "5.  **Execution:** Run the algorithm.\n",
    "6.  **Analysis:** Use the returned `history` object to plot the results with our analysis module."
   ]
  },
  {
   "cell_type": "markdown",
   "id": "83e6e0a1",
   "metadata": {},
   "source": [
    "**Prerequisite: Installation**\n",
    "\n",
    "Ensure you have installed the framework and its optional analysis dependencies from the terminal, in the project's root folder:"
   ]
  },
  {
   "cell_type": "code",
   "execution_count": null,
   "id": "f1e7d49b",
   "metadata": {},
   "outputs": [
    {
     "name": "stdout",
     "output_type": "stream",
     "text": [
      "Obtaining file:///Users/andrea_difelice/Desktop/Computational%20Intelligence/evolvepy_lib/examples\n",
      "\u001b[31mERROR: file:///Users/andrea_difelice/Desktop/Computational%20Intelligence/evolvepy_lib/examples does not appear to be a Python project: neither 'setup.py' nor 'pyproject.toml' found.\u001b[0m\u001b[31m\n",
      "\u001b[0m\n",
      "\u001b[1m[\u001b[0m\u001b[34;49mnotice\u001b[0m\u001b[1;39;49m]\u001b[0m\u001b[39;49m A new release of pip is available: \u001b[0m\u001b[31;49m24.0\u001b[0m\u001b[39;49m -> \u001b[0m\u001b[32;49m25.3\u001b[0m\n",
      "\u001b[1m[\u001b[0m\u001b[34;49mnotice\u001b[0m\u001b[1;39;49m]\u001b[0m\u001b[39;49m To update, run: \u001b[0m\u001b[32;49mpip install --upgrade pip\u001b[0m\n"
     ]
    }
   ],
   "source": [
    "#!pip install -e \".[analysis,dev]\""
   ]
  },
  {
   "cell_type": "code",
   "execution_count": null,
   "id": "83b9ea61",
   "metadata": {},
   "outputs": [
    {
     "ename": "ModuleNotFoundError",
     "evalue": "No module named 'evolvepy'",
     "output_type": "error",
     "traceback": [
      "\u001b[31m---------------------------------------------------------------------------\u001b[39m",
      "\u001b[31mModuleNotFoundError\u001b[39m                       Traceback (most recent call last)",
      "\u001b[36mCell\u001b[39m\u001b[36m \u001b[39m\u001b[32mIn[4]\u001b[39m\u001b[32m, line 7\u001b[39m\n\u001b[32m      4\u001b[39m \u001b[38;5;28;01mfrom\u001b[39;00m\u001b[38;5;250m \u001b[39m\u001b[34;01mtyping\u001b[39;00m\u001b[38;5;250m \u001b[39m\u001b[38;5;28;01mimport\u001b[39;00m List, Dict, Any\n\u001b[32m      6\u001b[39m \u001b[38;5;66;03m# Import core engine classes\u001b[39;00m\n\u001b[32m----> \u001b[39m\u001b[32m7\u001b[39m \u001b[38;5;28;01mfrom\u001b[39;00m\u001b[38;5;250m \u001b[39m\u001b[34;01mevolvepy\u001b[39;00m\u001b[38;5;250m \u001b[39m\u001b[38;5;28;01mimport\u001b[39;00m (\n\u001b[32m      8\u001b[39m     EvolutionaryAlgorithm, Logger, LogLevel, BaseProblem\n\u001b[32m      9\u001b[39m )\n\u001b[32m     11\u001b[39m \u001b[38;5;66;03m# Import the problem implementation\u001b[39;00m\n\u001b[32m     12\u001b[39m \u001b[38;5;28;01mfrom\u001b[39;00m\u001b[38;5;250m \u001b[39m\u001b[34;01mproblems\u001b[39;00m\u001b[34;01m.\u001b[39;00m\u001b[34;01mtsp\u001b[39;00m\u001b[38;5;250m \u001b[39m\u001b[38;5;28;01mimport\u001b[39;00m TSPProblem, CITIES_METADATA\n",
      "\u001b[31mModuleNotFoundError\u001b[39m: No module named 'evolvepy'"
     ]
    }
   ],
   "source": [
    "# Import standard libraries\n",
    "import numpy as np\n",
    "import glob\n",
    "from typing import List, Dict, Any\n",
    "\n",
    "# Import core engine classes\n",
    "from evolvepy import (\n",
    "    EvolutionaryAlgorithm, Logger, LogLevel, BaseProblem\n",
    ")\n",
    "\n",
    "# Import the problem implementation\n",
    "from problems.tsp import TSPProblem, CITIES_METADATA\n",
    "\n",
    "# Import all required strategies directly from 'evolvepy.strategies'\n",
    "from evolvepy.strategies import (\n",
    "    TournamentSelection,\n",
    "    PlusSelection,\n",
    "    StandardReproduction,\n",
    "    OrderedCrossover,\n",
    "    SwapMutation\n",
    ")\n",
    "\n",
    "# Import the plotting function\n",
    "from evolvepy.analysis import plot_convergence\n",
    "\n",
    "# Import our plotting module\n",
    "from evolvepy.analysis.plotting import plot_convergence"
   ]
  },
  {
   "cell_type": "code",
   "execution_count": null,
   "id": "082a5aff",
   "metadata": {},
   "outputs": [],
   "source": [
    "# Define all parameters in one place for easy tuning.\n",
    "\n",
    "# File & Log Paths\n",
    "PROBLEM_FILE_PATH = \"data/tsp/test_problem.npy\"  # The .npy file to solve\n",
    "LOG_LEVEL = LogLevel.VERBOSE                     # Verbosity level (NONE, INFO, VERBOSE)\n",
    "LOG_EVERY_N_GENS = 100                           # Print frequency for VERBOSE\n",
    "PLOT_SAVE_PATH = None                            # Where to save the final plot\n",
    "\n",
    "# Algorithm Parameters\n",
    "POPULATION_SIZE = 100\n",
    "GENERATIONS = 200\n",
    "\n",
    "# Strategy Parameters\n",
    "TOURNAMENT_K = 3\n",
    "CROSSOVER_RATE = 0.9\n",
    "INDIVIDUAL_MUTATION_PROB = 0.1  # Probability that an individual will undergo one mutation"
   ]
  },
  {
   "cell_type": "code",
   "execution_count": null,
   "id": "6a571be2",
   "metadata": {},
   "outputs": [
    {
     "name": "stdout",
     "output_type": "stream",
     "text": [
      "Loading data from data/tsp/test_problem.npy...\n",
      "Problem loaded and validated successfully.\n"
     ]
    }
   ],
   "source": [
    "# Here, we load the data and instantiate the problem class\n",
    "# that we defined in 'problems/tsp.py'.\n",
    "\n",
    "print(f\"Loading data from {PROBLEM_FILE_PATH}...\")\n",
    "try:\n",
    "    distance_matrix = np.load(PROBLEM_FILE_PATH)\n",
    "    tsp_problem: BaseProblem = TSPProblem(distance_matrix=distance_matrix)\n",
    "    \n",
    "    # Extract the problem-specific callables\n",
    "    fitness_fn = tsp_problem.get_fitness_function()\n",
    "    initializer_fn = tsp_problem.get_initializer_function()\n",
    "    \n",
    "    print(\"Problem loaded and validated successfully.\")\n",
    "    \n",
    "except FileNotFoundError:\n",
    "    print(f\"Error: File not found at {PROBLEM_FILE_PATH}.\")\n",
    "    # Stop execution if the file is missing\n",
    "    raise\n",
    "except ValueError as e:\n",
    "    print(f\"Error: Data matrix is invalid. {e}\")\n",
    "    # Stop if validation fails\n",
    "    raise"
   ]
  },
  {
   "cell_type": "code",
   "execution_count": null,
   "id": "be65e7ed",
   "metadata": {},
   "outputs": [
    {
     "name": "stdout",
     "output_type": "stream",
     "text": [
      "Assembling strategies...\n",
      "Strategies assembled.\n"
     ]
    }
   ],
   "source": [
    "# This is the heart of the framework. We assemble the \"pieces\"\n",
    "# (the plugins) that the EA engine will use.\n",
    "\n",
    "print(\"Assembling strategies...\")\n",
    "\n",
    "# Problem Agnostic Strategies\n",
    "# Logger: Configure the logger to be \"injected\"\n",
    "logger = Logger(level=LOG_LEVEL, verbose_every_n=LOG_EVERY_N_GENS)\n",
    "\n",
    "# Parent Selection: Tournament Selection\n",
    "parent_selector = TournamentSelection(k=TOURNAMENT_K)\n",
    "\n",
    "# Survivor Selection: Elitism (μ + λ)\n",
    "survivor_selector = PlusSelection(population_size=POPULATION_SIZE)\n",
    "\n",
    "# Representation-Dependent Strategies (Permutation)\n",
    "# Crossover: OrderedCrossover\n",
    "crossover_op = OrderedCrossover(crossover_rate=CROSSOVER_RATE)\n",
    "\n",
    "# Mutation: SwapMutation\n",
    "mutation_op = SwapMutation(\n",
    "    individual_mutation_prob=INDIVIDUAL_MUTATION_PROB\n",
    ")\n",
    "\n",
    "# Reproduction: standard (Crossover + Mutation) model\n",
    "reproduction_strategy = StandardReproduction(\n",
    "    recombination_strategy=crossover_op,\n",
    "    mutation_strategy=mutation_op\n",
    ")\n",
    "\n",
    "print(\"Strategies assembled.\")"
   ]
  },
  {
   "cell_type": "code",
   "execution_count": null,
   "id": "fc6cf684",
   "metadata": {},
   "outputs": [
    {
     "name": "stdout",
     "output_type": "stream",
     "text": [
      "Initializing EA Engine...\n",
      "Engine ready.\n"
     ]
    }
   ],
   "source": [
    "# We instantiate the main EvolutionaryAlgorithm class\n",
    "# and \"inject\" all the components we've prepared.\n",
    "\n",
    "print(\"Initializing EA Engine...\")\n",
    "ea_runner = EvolutionaryAlgorithm(\n",
    "    # Problem-specific functions\n",
    "    fitness_function=fitness_fn,\n",
    "    initialization_function=initializer_fn,\n",
    "    \n",
    "    # Core strategies\n",
    "    parent_selection=parent_selector,\n",
    "    reproduction_strategy=reproduction_strategy,\n",
    "    survivor_selection=survivor_selector,\n",
    "    \n",
    "    # Engine parameters\n",
    "    population_size=POPULATION_SIZE,\n",
    "    \n",
    "    # Injected services\n",
    "    logger=logger\n",
    ")\n",
    "print(\"Engine ready.\")"
   ]
  },
  {
   "cell_type": "code",
   "execution_count": null,
   "id": "5a7f0246",
   "metadata": {},
   "outputs": [
    {
     "name": "stdout",
     "output_type": "stream",
     "text": [
      "\n",
      "--- Starting Evolution (200 generations) ---\n",
      "--- Evolutionary Algorithm Started ---\n",
      "  Level: VERBOSE\n",
      "  Algorithm: 'EvolutionaryAlgorithm'\n",
      "  Population Size: 100\n",
      "  Parent Selection: 'TournamentSelection'\n",
      "  Reproduction: 'StandardReproduction'\n",
      "  Survivor Selection: 'PlusSelection'\n",
      "------------------------------------------\n",
      "Gen 0     | Best: -6464.9600 | Mean: -8755.7506 (± 881.40  ) | Worst: -10797.4500\n",
      "Gen 100   | Best: -3050.9700 | Mean: -3050.9700 (± 0.00    ) | Worst: -3050.9700\n",
      "Gen 200   | Best: -2944.8300 | Mean: -2944.8300 (± 0.00    ) | Worst: -2944.8300\n",
      "--- Evolution Finished ---\n",
      "  Total Generations: 200\n",
      "  Best Fitness: -2944.8300\n",
      "  Best Individual Age: 86\n",
      "  Best Genotype: [8, 14, 10, 13, 6, 19, 18, 11, 16, 1, 3, 5, 17, 7, 0, 2, 4, 9, 12, 15]\n",
      "--------------------------------\n",
      "--- Evolution Finished ---\n"
     ]
    }
   ],
   "source": [
    "# We start the evolution. This is the only step that\n",
    "# takes significant time. The logger will print the output.\n",
    "\n",
    "print(f\"\\n--- Starting Evolution ({GENERATIONS} generations) ---\")\n",
    "\n",
    "# Run the algorithm\n",
    "best_individual, history = ea_runner.run(generations=GENERATIONS)\n",
    "\n",
    "print(f\"--- Evolution Finished ---\")"
   ]
  },
  {
   "cell_type": "code",
   "execution_count": null,
   "id": "9e64abf5",
   "metadata": {},
   "outputs": [
    {
     "name": "stdout",
     "output_type": "stream",
     "text": [
      "\n",
      "--- Analysis ---\n",
      "\n",
      "Best Fitness Found: -2944.830000\n",
      "Best Distance Found: 2944.83 km\n",
      "Best Path Found (Indices): [8, 14, 10, 13, 6, 19, 18, 11, 16, 1, 3, 5, 17, 7, 0, 2, 4, 9, 12, 15]\n",
      "Best Path (Names): \n",
      "Bari -> Trieste -> Venice -> Padua -> Bologna -> Modena -> Parma -> Verona -> Brescia -> Milan -> Turin -> Genoa -> Prato -> Florence -> Rome -> Naples -> Palermo -> Catania -> Messina -> Taranto -> Bari\n",
      "\n",
      "Generating convergence plot...\n"
     ]
    },
    {
     "data": {
      "image/png": "[encoded data removed]",
      "text/plain": [
       "<Figure size 1200x700 with 1 Axes>"
      ]
     },
     "metadata": {},
     "output_type": "display_data"
    }
   ],
   "source": [
    "# We use the returned 'history' object to\n",
    "# analyze the results and plot the convergence.\n",
    "\n",
    "print(\"\\n--- Analysis ---\")\n",
    "\n",
    "# Basic Analysis\n",
    "best_fitness = best_individual.fitness\n",
    "best_distance = -best_fitness  # Get the distance\n",
    "best_path_indices = best_individual.genotype\n",
    "\n",
    "# Map indices to city names\n",
    "# Add the return to the start city for a complete tour\n",
    "best_path_names = [CITIES_METADATA[i] for i in best_path_indices]\n",
    "best_path_names.append(CITIES_METADATA[best_path_indices[0]]) \n",
    "\n",
    "print(f\"\\nBest Fitness Found: {best_fitness:.6f}\")\n",
    "print(f\"Best Distance Found: {best_distance:.2f} km\")\n",
    "print(f\"Best Path Found (Indices): {best_path_indices}\")\n",
    "print(f\"Best Path (Names): \\n{' -> '.join(best_path_names)}\")\n",
    "\n",
    "\n",
    "# Plotting\n",
    "print(\"\\nGenerating convergence plot...\")\n",
    "\n",
    "# Call our plotting function from the 'analysis' module\n",
    "plot_convergence(\n",
    "    history, \n",
    "    save_path=PLOT_SAVE_PATH, \n",
    "    show=True\n",
    ")"
   ]
  }
 ],
 "metadata": {
  "kernelspec": {
   "display_name": "venv",
   "language": "python",
   "name": "python3"
  },
  "language_info": {
   "codemirror_mode": {
    "name": "ipython",
    "version": 3
   },
   "file_extension": ".py",
   "mimetype": "text/x-python",
   "name": "python",
   "nbconvert_exporter": "python",
   "pygments_lexer": "ipython3",
   "version": "3.11.9"
  }
 },
 "nbformat": 4,
 "nbformat_minor": 5
}
